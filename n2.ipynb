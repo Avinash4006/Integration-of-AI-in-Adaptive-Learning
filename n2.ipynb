{
 "cells": [
  {
   "cell_type": "code",
   "execution_count": null,
   "id": "018f0a11",
   "metadata": {},
   "outputs": [],
   "source": [
    "import streamlit as st\n",
    "\n",
    "\n",
    "quiz_data = [\n",
    "    {\n",
    "        \"question\": \"What is the capital of India?\",\n",
    "        \"options\": [\"Paris\", \"London\", \"Delhi\", \"Madrid\"],\n",
    "        \"correct_option\": \"Delhi\",\n",
    "    },\n",
    "    {\n",
    "        \"question\": \"Which planet is known as the Red Planet?\",\n",
    "        \"options\": [\"Earth\", \"Mars\", \"Jupiter\", \"Venus\"],\n",
    "        \"correct_option\": \"Mars\",\n",
    "    },\n",
    "    {\n",
    "        \"question\": \"What is the largest mammal in the world?\",\n",
    "        \"options\": [\"Giraffe\", \"Elephant\", \"Blue Whale\", \"Hippopotamus\"],\n",
    "        \"correct_option\": \"Blue Whale\",\n",
    "    },\n",
    "]\n",
    "\n",
    "quiz_score = 0\n",
    "current_question = 0\n",
    "\n",
    "st.title(\"Streamlit Quiz App\")\n",
    "\n",
    "def display_question(question_data):\n",
    "    global quiz_score\n",
    "\n",
    "    st.write(f\"**Question {current_question + 1}:** {question_data['question']}\")\n",
    "    selected_option = st.radio(\"Select an option:\", question_data[\"options\"])\n",
    "\n",
    "    if selected_option == question_data[\"correct_option\"]:\n",
    "        quiz_score += 1\n",
    "\n",
    "while current_question < len(quiz_data):\n",
    "    display_question(quiz_data[current_question])\n",
    "\n",
    "    if st.button(\"Next\"):\n",
    "        current_question += 1\n",
    "\n",
    "\n",
    "\n",
    "st.write(\"Quiz completed!\")    \n",
    "st.write(f\"Your Score: {quiz_score}/{len(quiz_data)}\")"
   ]
  },
  {
   "cell_type": "code",
   "execution_count": null,
   "id": "05523626",
   "metadata": {},
   "outputs": [],
   "source": [
    "streamlit run C:\\Users\\Lenovo\\anaconda3\\lib\\site-packages\\ipykernel_launcher.py"
   ]
  },
  {
   "cell_type": "code",
   "execution_count": null,
   "id": "00cc3c30",
   "metadata": {},
   "outputs": [],
   "source": []
  }
 ],
 "metadata": {
  "kernelspec": {
   "display_name": "Python 3 (ipykernel)",
   "language": "python",
   "name": "python3"
  },
  "language_info": {
   "codemirror_mode": {
    "name": "ipython",
    "version": 3
   },
   "file_extension": ".py",
   "mimetype": "text/x-python",
   "name": "python",
   "nbconvert_exporter": "python",
   "pygments_lexer": "ipython3",
   "version": "3.9.13"
  }
 },
 "nbformat": 4,
 "nbformat_minor": 5
}
